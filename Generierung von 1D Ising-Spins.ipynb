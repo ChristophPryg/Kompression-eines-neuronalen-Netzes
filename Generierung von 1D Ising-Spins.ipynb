{
 "cells": [
  {
   "cell_type": "code",
   "execution_count": null,
   "metadata": {},
   "outputs": [],
   "source": [
    "using PyPlot, Statistics, DataFrames, ProgressMeter, Random, CSV"
   ]
  },
  {
   "cell_type": "code",
   "execution_count": null,
   "metadata": {},
   "outputs": [],
   "source": [
    "# Spingenerator\n",
    "function Spin(L)\n",
    "    s=zeros(L)\n",
    "    for i in 1:L\n",
    "        s[i]=rand([-1,1])\n",
    "    end\n",
    "    return s\n",
    "end"
   ]
  },
  {
   "cell_type": "code",
   "execution_count": null,
   "metadata": {},
   "outputs": [],
   "source": [
    "# Inverser Abstand zu allen anderen Plätzen in einer Matrix gespeichert\n",
    "function Wechselwirkung(J,L)\n",
    "    V=zeros(L,L)\n",
    "    for i in 1:L\n",
    "        for j in 1:L\n",
    "            if i!=j\n",
    "                V[i,j]=J/abs(i-j)^2\n",
    "            end\n",
    "        end\n",
    "    end\n",
    "    return V\n",
    "end"
   ]
  },
  {
   "cell_type": "code",
   "execution_count": null,
   "metadata": {},
   "outputs": [],
   "source": [
    "# Ein Schritt des Metropolisalgorithmus\n",
    "function metropolis_step!(σ,V,β,J)\n",
    "    # Wahl eines zufälligen Platzes\n",
    "    x=rand(collect(1:size(σ)[1]))\n",
    "    # Wechselwirkungsterm mit der Matrix V, die den inversen Abstand enthält \n",
    "    W=V[:,x]'*σ\n",
    "    # Energiedifferenz durch Spinflip\n",
    "    ΔE=2*σ[x]*W\n",
    "    # Ziehen einer Zufallszahl r und Akzeptieren der neuen Konfiguration, wenn r<=exp(-β*ΔE)\n",
    "    r=rand()\n",
    "    if r<=exp(-β*ΔE)\n",
    "        σ[x]=-σ[x]\n",
    "    end\n",
    "    return σ\n",
    "end"
   ]
  },
  {
   "cell_type": "code",
   "execution_count": null,
   "metadata": {
    "scrolled": false
   },
   "outputs": [],
   "source": [
    "# Metropolisalgorithmus mit Speicherung der Konfigurationen\n",
    "function run_metropolis!(L,β,J,N,init_sweeps,sample_interval)\n",
    "    Config=zeros(L,N)\n",
    "    config=Spin(L)\n",
    "    #Matrix der inversen Abstände definieren\n",
    "    V=Wechselwirkung(J,L)\n",
    "    # Thermalisierung\n",
    "    for i in 1:init_sweeps\n",
    "        config=metropolis_step!(config,V,β,J)\n",
    "    end\n",
    "    # N Konfigurationen mit Zwischenschritten (sample_interval)\n",
    "    for i in 1:N\n",
    "        for j in 1:sample_interval\n",
    "            config=metropolis_step!(config,V,β,J)\n",
    "        end\n",
    "        Config[:,i]=config\n",
    "    end\n",
    "    return Config\n",
    "end"
   ]
  },
  {
   "cell_type": "code",
   "execution_count": null,
   "metadata": {},
   "outputs": [],
   "source": [
    "# Dies ist der Test-Metropolisalgorithmus, der die Magnetisierung für generierte Konfigurationen berechnet\n",
    "function run_metropolis_1!(L,β,J,N,init_sweeps,sample_interval)\n",
    "    σ = rand([-1,1],L)\n",
    "    observables = Matrix{Float64}(undef,N,1)\n",
    "    #Matrix der inversen Abstände definieren\n",
    "    V=Wechselwirkung(J,L)\n",
    "    #Thermalisierung\n",
    "    for i in 1:init_sweeps\n",
    "        σ=metropolis_step!(σ,V,β,J)\n",
    "    end\n",
    "    # N Konfigurationen mit Zwischenschritten (sample_interval)\n",
    "    for t in 1:N\n",
    "        for i in 1:sample_interval\n",
    "            σ=metropolis_step!(σ,V,β,J)\n",
    "        end\n",
    "        observables[t,1]=sum(σ)\n",
    "    end\n",
    "    return 1/β,mean(observables[:,1]),var(observables[:,1]),mean(abs.(observables[:,1]))\n",
    "end"
   ]
  },
  {
   "cell_type": "code",
   "execution_count": null,
   "metadata": {},
   "outputs": [],
   "source": [
    "# Daten für die Magnetisierungskurve sammeln\n",
    "data_for_test= DataFrame(L=Int[], T=Float64[],M_mean=Float64[], M_var=Float64[], M_abs=Float64[])\n",
    "L = zeros(100)\n",
    "T_range = range(0.1,3.0, length=100)\n",
    "M_mean=zeros(100)\n",
    "M_var=zeros(100)\n",
    "M_abs=zeros(100)\n",
    "@showprogress for i in 1:100\n",
    "    L[i]=100\n",
    "    β_inv,M_mean[i],M_var[i],M_abs[i]=run_metropolis_1!(500,1/T_range[i],1,6000,1000,10000)\n",
    "end\n",
    "for i in 1:100\n",
    "    push!(data_for_test.L,L[i])\n",
    "    push!(data_for_test.T,T_range[i])\n",
    "    push!(data_for_test.M_mean,M_mean[i])\n",
    "    push!(data_for_test.M_var,M_var[i])\n",
    "    push!(data_for_test.M_abs,M_abs[i])\n",
    "end"
   ]
  },
  {
   "cell_type": "code",
   "execution_count": null,
   "metadata": {
    "scrolled": false
   },
   "outputs": [],
   "source": [
    "# Plot der Magnetiserungskurve in Abhängigkeit von der Temperatur, um einen Phasenübergang zu suchen\n",
    "plot(data_for_test.T,(data_for_test.M_abs./500).^2,\"o\")\n",
    "xticks([0.0,0.5,1.0,1.5,2.0,2.5,3.0])\n",
    "ax = gca()\n",
    "ax[:tick_params](labelsize=15)\n",
    "ax[:set_xlabel](\"T\",fontsize=15)\n",
    "ax[:set_ylabel](\"(|M|/L)²\",fontsize=15)"
   ]
  },
  {
   "cell_type": "code",
   "execution_count": null,
   "metadata": {},
   "outputs": [],
   "source": [
    "# Spinkonfigurationen für die Temperaturen T=2,3,5 generieren\n",
    "label=Array{String}(undef,10000)\n",
    "for i in 1:10000\n",
    "    label[i]=string(\"Konfiguration \",i)\n",
    "end\n",
    "Σ_2=run_metropolis!(500,1/2 ,1.0,10000,1000,10000)\n",
    "data_2= DataFrame(Σ_2,label)\n",
    "Σ_3=run_metropolis!(500,1/3 ,1.0,10000,1000,10000)\n",
    "data_3= DataFrame(Σ_3,label)\n",
    "Σ_5=run_metropolis!(500,1/5 ,1.0,10000,1000,10000)\n",
    "data_5= DataFrame(Σ_5,label)"
   ]
  },
  {
   "cell_type": "code",
   "execution_count": null,
   "metadata": {},
   "outputs": [],
   "source": [
    "# Spinkonfigurationen exportieren\n",
    "CSV.write(\"...data_2.csv\",data_2)\n",
    "CSV.write(\"...data_3.csv\",data_3)\n",
    "CSV.write(\"...data_5.csv\",data_5)"
   ]
  }
 ],
 "metadata": {
  "kernelspec": {
   "display_name": "Julia 1.6.0",
   "language": "julia",
   "name": "julia-1.6"
  },
  "language_info": {
   "file_extension": ".jl",
   "mimetype": "application/julia",
   "name": "julia",
   "version": "1.6.0"
  }
 },
 "nbformat": 4,
 "nbformat_minor": 4
}
