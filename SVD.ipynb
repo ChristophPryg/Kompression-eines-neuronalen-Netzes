{
 "cells": [
  {
   "cell_type": "code",
   "execution_count": null,
   "metadata": {},
   "outputs": [],
   "source": [
    "using LinearAlgebra, PyPlot, CSV, DataFrames"
   ]
  },
  {
   "cell_type": "markdown",
   "metadata": {},
   "source": [
    "## Import der Wechselwirkungsmatrizen"
   ]
  },
  {
   "cell_type": "code",
   "execution_count": null,
   "metadata": {},
   "outputs": [],
   "source": [
    "W_2=DataFrame(CSV.File(\"C:\\\\Users\\\\cpryg\\\\Documents\\\\Bachelorarbeit\\\\W_2.csv\"))\n",
    "W_2=Matrix(W_2)\n",
    "W_3=DataFrame(CSV.File(\"C:\\\\Users\\\\cpryg\\\\Documents\\\\Bachelorarbeit\\\\W_3.csv\"))\n",
    "W_3=Matrix(W_3)\n",
    "W_5=DataFrame(CSV.File(\"C:\\\\Users\\\\cpryg\\\\Documents\\\\Bachelorarbeit\\\\W_5.csv\"))\n",
    "W_5=Matrix(W_5)\n",
    "W_2_exponentiell=DataFrame(CSV.File(\"C:\\\\Users\\\\cpryg\\\\Documents\\\\Bachelorarbeit\\\\W_2_exponentiell.csv\"))\n",
    "W_2_exponentiell=Matrix(W_2_exponentiell)\n",
    "W_3_exponentiell=DataFrame(CSV.File(\"C:\\\\Users\\\\cpryg\\\\Documents\\\\Bachelorarbeit\\\\W_3_exponentiell.csv\"))\n",
    "W_3_exponentiell=Matrix(W_3_exponentiell)\n",
    "W_5_exponentiell=DataFrame(CSV.File(\"C:\\\\Users\\\\cpryg\\\\Documents\\\\Bachelorarbeit\\\\W_5_exponentiell.csv\"))\n",
    "W_5_exponentiell=Matrix(W_5_exponentiell);"
   ]
  },
  {
   "cell_type": "markdown",
   "metadata": {},
   "source": [
    "## Graphische Darstellung der Wechselwikrungsmatrizen"
   ]
  },
  {
   "cell_type": "markdown",
   "metadata": {},
   "source": [
    "### normalverteilte Initialisierung"
   ]
  },
  {
   "cell_type": "code",
   "execution_count": null,
   "metadata": {},
   "outputs": [],
   "source": [
    "# T=2\n",
    "imshow(log.(abs.(W_2)))\n",
    "ax = gca()\n",
    "ax[:set_xticks]([1,500])\n",
    "ax[:set_yticks]([1,500])\n",
    "ax[:tick_params](labelsize=20);"
   ]
  },
  {
   "cell_type": "code",
   "execution_count": null,
   "metadata": {},
   "outputs": [],
   "source": [
    "# T=3\n",
    "imshow(log.(abs.(W_3)))\n",
    "ax = gca()\n",
    "ax[:set_xticks]([1,500])\n",
    "ax[:set_yticks]([1,500])\n",
    "ax[:tick_params](labelsize=20);"
   ]
  },
  {
   "cell_type": "code",
   "execution_count": null,
   "metadata": {},
   "outputs": [],
   "source": [
    "# T=5\n",
    "imshow(log.(abs.(W_5)))\n",
    "ax = gca()\n",
    "ax[:set_xticks]([1,500])\n",
    "ax[:set_yticks]([1,500])\n",
    "ax[:tick_params](labelsize=20);"
   ]
  },
  {
   "cell_type": "markdown",
   "metadata": {},
   "source": [
    "### exponentielle Initialsierung"
   ]
  },
  {
   "cell_type": "code",
   "execution_count": null,
   "metadata": {},
   "outputs": [],
   "source": [
    "# T=2\n",
    "imshow(log.(abs.(W_2_exponentiell)))\n",
    "ax = gca()\n",
    "ax[:set_xticks]([1,500])\n",
    "ax[:set_yticks]([1,500])\n",
    "ax[:tick_params](labelsize=20);"
   ]
  },
  {
   "cell_type": "code",
   "execution_count": null,
   "metadata": {
    "scrolled": false
   },
   "outputs": [],
   "source": [
    "# T=3\n",
    "imshow(log.(abs.(W_3_exponentiell)))\n",
    "ax = gca()\n",
    "ax[:set_xticks]([1,500])\n",
    "ax[:set_yticks]([1,500])\n",
    "ax[:tick_params](labelsize=20);"
   ]
  },
  {
   "cell_type": "code",
   "execution_count": null,
   "metadata": {
    "scrolled": false
   },
   "outputs": [],
   "source": [
    "# T=5\n",
    "imshow(log.(abs.(W_5_exponentiell)))\n",
    "ax = gca()\n",
    "ax[:set_xticks]([1,500])\n",
    "ax[:set_yticks]([1,500])\n",
    "ax[:tick_params](labelsize=20);"
   ]
  },
  {
   "cell_type": "markdown",
   "metadata": {},
   "source": [
    "## Definition der relevanten Funktionen"
   ]
  },
  {
   "cell_type": "code",
   "execution_count": null,
   "metadata": {},
   "outputs": [],
   "source": [
    "function SVD(A,n)\n",
    "    m=Int(size(A)[2]/n)\n",
    "    # Indizes aufspalten\n",
    "    A_1=reshape(A,n,m,n,m)\n",
    "    # Indizes vertauschen\n",
    "    A_1=permutedims(A_1,[1,3,2,4])\n",
    "    # Indizes wieder reduzieren\n",
    "    A_1=reshape(A_1,n*n,m*m)\n",
    "    # SVD von der resultiereden Matrix\n",
    "    U,Σ,V=svd(A_1)\n",
    "    return U,Σ,V\n",
    "end"
   ]
  },
  {
   "cell_type": "code",
   "execution_count": null,
   "metadata": {},
   "outputs": [],
   "source": [
    "# Fehler in der Frobeniusnorm beim Trunkieren\n",
    "function f(Σ,k)\n",
    "    error=sqrt(sum(Σ[k+1:end].^2)/sum(Σ.^2))\n",
    "    return error\n",
    "end"
   ]
  },
  {
   "cell_type": "code",
   "execution_count": null,
   "metadata": {},
   "outputs": [],
   "source": [
    "# approximierte Matrix wieder zusammenbauen\n",
    "function Approximation(U,Σ,V,k)\n",
    "    Σ_trunk=copy(Σ)\n",
    "    for i in (k+1):length(Σ)\n",
    "        Σ_trunk[i]=0\n",
    "    end\n",
    "    A=U*Diagonal(Σ_trunk)*V'\n",
    "    m=Int(sqrt(size(A)[1]))\n",
    "    n=Int(sqrt(size(A)[2]))\n",
    "    # Indizes auspalten\n",
    "    A=reshape(A,m,m,n,n)\n",
    "    #Indizes vertauschen \n",
    "    A=permutedims(A,[1,3,2,4])\n",
    "    # Indizes fusionieren\n",
    "    A=reshape(A,n*m,n*m)\n",
    "    return A\n",
    "end"
   ]
  },
  {
   "cell_type": "markdown",
   "metadata": {},
   "source": [
    "## Singulärwertspektrum und Trunkierungsfehler"
   ]
  },
  {
   "cell_type": "code",
   "execution_count": null,
   "metadata": {
    "scrolled": false
   },
   "outputs": [],
   "source": [
    "# Die Singulärwerte der Zerlegung 20-25 der Wechselwirkungsmatrizen, die normalverteilt initialisiert wurden, werden geplottet.\n",
    "\n",
    "U_2_20,Σ_2_20,V_2_20=SVD(W_2,20)\n",
    "U_3_20,Σ_3_20,V_3_20=SVD(W_3,20)\n",
    "U_5_20,Σ_5_20,V_5_20=SVD(W_5,20)\n",
    "\n",
    "plot(Σ_2_20./Σ_2_20[1],label=\"T=2\")\n",
    "plot(Σ_3_20./Σ_3_20[1],label=\"T=3\")\n",
    "plot(Σ_5_20./Σ_5_20[1],label=\"T=5\")\n",
    "legend()\n",
    "ax = gca()\n",
    "ax[:set_xticks]([1,100,200,300,400])\n",
    "ax[:tick_params](labelsize=20)\n",
    "ax[:set_xlabel](\"Singulärwerte\",fontsize=20)\n",
    "ax[:legend](fontsize=20)"
   ]
  },
  {
   "cell_type": "code",
   "execution_count": null,
   "metadata": {},
   "outputs": [],
   "source": [
    "# Die Singulärwerte der Zerlegung 50-10 der Wechselwirkungsmatrizen, die normalverteilt initialisiert wurden, werden geplottet.\n",
    "\n",
    "U_2_50,Σ_2_50,V_2_50=SVD(W_2,50)\n",
    "U_3_50,Σ_3_50,V_3_50=SVD(W_3,50)\n",
    "U_5_50,Σ_5_50,V_5_50=SVD(W_5,50)\n",
    "\n",
    "plot(Σ_2_50./Σ_2_50[1],label=\"T=2\")\n",
    "plot(Σ_3_50./Σ_3_50[1],label=\"T=3\")\n",
    "plot(Σ_5_50./Σ_5_50[1],label=\"T=5\")\n",
    "legend()\n",
    "xlabel(\"Singulärwerte\")\n",
    "ax = gca()\n",
    "ax[:set_xticks]([1,25,50,75,100])\n",
    "ax[:tick_params](labelsize=20)\n",
    "ax[:set_xlabel](\"Singulärwerte\",fontsize=20)\n",
    "ax[:legend](fontsize=20)"
   ]
  },
  {
   "cell_type": "code",
   "execution_count": null,
   "metadata": {},
   "outputs": [],
   "source": [
    "# Die Singulärwerte der Zerlegung 10-50 der Wechselwirkungsmatrizen, die normalverteilt initialisiert wurden, werden geplottet.\n",
    "\n",
    "U_2_10,Σ_2_10,V_2_10=SVD(W_2,10)\n",
    "U_3_10,Σ_3_10,V_3_10=SVD(W_3,10)\n",
    "U_5_10,Σ_5_10,V_5_10=SVD(W_5,10)\n",
    "\n",
    "plot(Σ_2_10./Σ_2_10[1],label=\"T=2\")\n",
    "plot(Σ_3_10./Σ_3_10[1],label=\"T=3\")\n",
    "plot(Σ_5_10./Σ_5_10[1],label=\"T=5\")\n",
    "legend()\n",
    "xlabel(\"Singulärwerte\")\n",
    "ax = gca()\n",
    "ax[:set_xticks]([1,25,50,75,100])\n",
    "ax[:tick_params](labelsize=20)\n",
    "ax[:set_xlabel](\"Singulärwerte\",fontsize=20)\n",
    "ax[:legend](fontsize=20)"
   ]
  },
  {
   "cell_type": "code",
   "execution_count": null,
   "metadata": {},
   "outputs": [],
   "source": [
    "# Trunkierungsfehler der normalverteilt initialisierten Wechselwirkungsmatrix\n",
    "\n",
    "Fehler_2_20=[f(Σ_2_20,k) for k in 1:length(Σ_2_20)]\n",
    "Fehler_3_20=[f(Σ_3_20,k) for k in 1:length(Σ_3_20)]\n",
    "Fehler_5_20=[f(Σ_5_20,k) for k in 1:length(Σ_5_20)]\n",
    "\n",
    "Fehler_2_50=[f(Σ_2_50,k) for k in 1:length(Σ_2_50)]\n",
    "Fehler_3_50=[f(Σ_3_50,k) for k in 1:length(Σ_3_50)]\n",
    "Fehler_5_50=[f(Σ_5_50,k) for k in 1:length(Σ_5_50)]\n",
    "\n",
    "Fehler_2_10=[f(Σ_2_10,k) for k in 1:length(Σ_2_10)]\n",
    "Fehler_3_10=[f(Σ_3_10,k) for k in 1:length(Σ_3_10)]\n",
    "Fehler_5_10=[f(Σ_5_10,k) for k in 1:length(Σ_5_10)]\n",
    "semilogy(Fehler_2_20,label=\"20 zu 25\")\n",
    "semilogy(Fehler_2_50,label=\"50 zu 10\")\n",
    "semilogy(Fehler_2_10,label=\"10 zu 50\")\n",
    "legend()\n",
    "ax = gca()\n",
    "ax[:set_xticks]([1,50,100,150,200,250,300,350,400])\n",
    "ax[:tick_params](labelsize=15)\n",
    "ax[:legend](fontsize=15)\n",
    "ax[:set_xlabel](\"Singulärwerte\",fontsize=15)\n",
    "ax[:set_ylabel](\"relativer Fehler\",fontsize=15)\n",
    "ax[:legend](fontsize=15)"
   ]
  },
  {
   "cell_type": "code",
   "execution_count": null,
   "metadata": {},
   "outputs": [],
   "source": [
    "# Die Singulärwerte der Wechselwirkungsmatrizen, die exponentiell initialisiert wurden, werden in der Zerlegung 20-25 geplottet.\n",
    "\n",
    "U_2_exponentiell_20,Σ_2_exponentiell_20,V_2_exponentiell_20=SVD(W_2_exponentiell,20)\n",
    "U_3_exponentiell_20,Σ_3_exponentiell_20,V_3_exponentiell_20=SVD(W_3_exponentiell,20)\n",
    "U_5_exponentiell_20,Σ_5_exponentiell_20,V_5_exponentiell_20=SVD(W_5_exponentiell,20)\n",
    "\n",
    "semilogy(collect(1:length(Σ_2_exponentiell_20)),Σ_2_exponentiell_20./Σ_2_exponentiell_20[1],label=\"T=2\")\n",
    "semilogy(collect(1:length(Σ_2_exponentiell_20)),Σ_3_exponentiell_20./Σ_3_exponentiell_20[1],label=\"T=3\")\n",
    "semilogy(collect(1:length(Σ_2_exponentiell_20)),Σ_5_exponentiell_20./Σ_5_exponentiell_20[1],label=\"T=5\")\n",
    "legend()\n",
    "xlabel(\"Singulärwerte\")\n",
    "ax = gca()\n",
    "ax[:tick_params](labelsize=15)\n",
    "ax[:set_xticks]([1,50,100,150,200,250,300,350,400])\n",
    "ax[:set_xlabel](\"Singulärwerte\",fontsize=15)\n",
    "ax[:legend](fontsize=15)\n",
    "#xlim(1,10)"
   ]
  },
  {
   "cell_type": "code",
   "execution_count": null,
   "metadata": {},
   "outputs": [],
   "source": [
    "# Die Singulärwerte der Wechselwirkungsmatrizen, die exponentiell initialisiert wurden, werden in der Zerlegung 50-10 geplottet.\n",
    "\n",
    "U_2_exponentiell_50,Σ_2_exponentiell_50,V_2_exponentiell_50=SVD(W_2_exponentiell,50)\n",
    "U_3_exponentiell_50,Σ_3_exponentiell_50,V_3_exponentiell_50=SVD(W_3_exponentiell,50)\n",
    "U_5_exponentiell_50,Σ_5_exponentiell_50,V_5_exponentiell_50=SVD(W_5_exponentiell,50)\n",
    "\n",
    "semilogy(collect(1:length(Σ_2_exponentiell_50)),Σ_2_exponentiell_50./Σ_2_exponentiell_50[1],label=\"T=2\")\n",
    "semilogy(collect(1:length(Σ_3_exponentiell_50)),Σ_3_exponentiell_50./Σ_3_exponentiell_50[1],label=\"T=3\")\n",
    "semilogy(collect(1:length(Σ_5_exponentiell_50)),Σ_5_exponentiell_50./Σ_5_exponentiell_50[1],label=\"T=5\")\n",
    "legend()\n",
    "xlabel(\"Singulärwerte\")\n",
    "ax = gca()\n",
    "ax[:tick_params](labelsize=15)\n",
    "ax[:set_xticks]([1,20,40,60,80,100])\n",
    "ax[:set_xlabel](\"Singulärwerte\",fontsize=15)\n",
    "ax[:legend](fontsize=15)\n",
    "#xlim(1,10)"
   ]
  },
  {
   "cell_type": "code",
   "execution_count": null,
   "metadata": {},
   "outputs": [],
   "source": [
    "# Die Singulärwerte der Wechselwirkungsmatrizen, die exponentiell initialisiert wurden, werden in der Zerlegung 10-50 geplottet.\n",
    "\n",
    "U_2_exponentiell_10,Σ_2_exponentiell_10,V_2_exponentiell_10=SVD(W_2_exponentiell,10)\n",
    "U_3_exponentiell_10,Σ_3_exponentiell_10,V_3_exponentiell_10=SVD(W_3_exponentiell,10)\n",
    "U_5_exponentiell_10,Σ_5_exponentiell_10,V_5_exponentiell_10=SVD(W_5_exponentiell,10)\n",
    "\n",
    "semilogy(collect(1:length(Σ_2_exponentiell_10)),Σ_2_exponentiell_10./Σ_2_exponentiell_10[1],label=\"T=2\")\n",
    "semilogy(collect(1:length(Σ_3_exponentiell_10)),Σ_3_exponentiell_10./Σ_3_exponentiell_10[1],label=\"T=3\")\n",
    "semilogy(collect(1:length(Σ_5_exponentiell_10)),Σ_5_exponentiell_10./Σ_5_exponentiell_10[1],label=\"T=5\")\n",
    "legend()\n",
    "xlabel(\"Singulärwerte\")\n",
    "ax = gca()\n",
    "ax[:tick_params](labelsize=15)\n",
    "ax[:set_xticks]([1,20,40,60,80,100])\n",
    "ax[:set_xlabel](\"Singulärwerte\",fontsize=15)\n",
    "ax[:legend](fontsize=15)\n",
    "#xlim(1,10)"
   ]
  },
  {
   "cell_type": "code",
   "execution_count": null,
   "metadata": {},
   "outputs": [],
   "source": [
    "# Trunkierungsfehler der exponentiell initialiserten Wechselwirkungsmatrix bei T=2\n",
    "\n",
    "Fehler_2_exponentiell_20=[f(Σ_2_exponentiell_20,k) for k in 1:length(Σ_2_exponentiell_20)]\n",
    "Fehler_2_exponentiell_50=[f(Σ_2_exponentiell_50,k) for k in 1:length(Σ_2_exponentiell_50)]\n",
    "Fehler_2_exponentiell_10=[f(Σ_2_exponentiell_10,k) for k in 1:length(Σ_2_exponentiell_10)]\n",
    "\n",
    "semilogy(Fehler_2_exponentiell_20,label=\"20 zu 25\")\n",
    "semilogy(Fehler_2_exponentiell_50,label=\"50 zu 10\")\n",
    "semilogy(Fehler_2_exponentiell_10,label=\"10 zu 50\")\n",
    "legend()\n",
    "ax = gca()\n",
    "ax[:set_xticks]([1,100,200,300,400])\n",
    "ax[:tick_params](labelsize=20)\n",
    "ax[:legend](fontsize=20)\n",
    "ax[:set_xlabel](\"Singulärwerte\",fontsize=20)\n",
    "#ax[:set_ylabel](\"relativer Fehler\",fontsize=20)\n",
    "ax[:legend](fontsize=20)"
   ]
  },
  {
   "cell_type": "code",
   "execution_count": null,
   "metadata": {},
   "outputs": [],
   "source": [
    "# Trunkierungsfehler der exponentiell initialiserten Wechselwirkungsmatrix bei T=3\n",
    "\n",
    "Fehler_3_exponentiell_20=[f(Σ_3_exponentiell_20,k) for k in 1:length(Σ_3_exponentiell_20)]\n",
    "Fehler_3_exponentiell_50=[f(Σ_3_exponentiell_50,k) for k in 1:length(Σ_3_exponentiell_50)]\n",
    "Fehler_3_exponentiell_10=[f(Σ_3_exponentiell_10,k) for k in 1:length(Σ_3_exponentiell_10)]\n",
    "\n",
    "semilogy(Fehler_3_exponentiell_20,label=\"20 zu 25\")\n",
    "semilogy(Fehler_3_exponentiell_50,label=\"50 zu 10\")\n",
    "semilogy(Fehler_3_exponentiell_10,label=\"10 zu 50\")\n",
    "legend()\n",
    "ax = gca()\n",
    "ax[:set_xticks]([1,100,200,300,400])\n",
    "ax[:tick_params](labelsize=20)\n",
    "ax[:legend](fontsize=20)\n",
    "ax[:set_xlabel](\"Singulärwerte\",fontsize=20)\n",
    "#ax[:set_ylabel](\"relativer Fehler\",fontsize=20)\n",
    "ax[:legend](fontsize=20)"
   ]
  },
  {
   "cell_type": "code",
   "execution_count": null,
   "metadata": {
    "scrolled": false
   },
   "outputs": [],
   "source": [
    "# Trunkierungsfehler der exponentiell initialiserten Wechselwirkungsmatrix bei T=5\n",
    "\n",
    "Fehler_5_exponentiell_20=[f(Σ_5_exponentiell_20,k) for k in 1:length(Σ_5_exponentiell_20)]\n",
    "Fehler_5_exponentiell_50=[f(Σ_5_exponentiell_50,k) for k in 1:length(Σ_5_exponentiell_50)]\n",
    "Fehler_5_exponentiell_10=[f(Σ_5_exponentiell_10,k) for k in 1:length(Σ_5_exponentiell_10)]\n",
    "\n",
    "semilogy(Fehler_5_exponentiell_20,label=\"20 zu 25\")\n",
    "semilogy(Fehler_5_exponentiell_50,label=\"50 zu 10\")\n",
    "semilogy(Fehler_5_exponentiell_10,label=\"10 zu 50\")\n",
    "legend()\n",
    "ax = gca()\n",
    "ax[:set_xticks]([1,100,200,300,400])\n",
    "ax[:tick_params](labelsize=20)\n",
    "ax[:legend](fontsize=20)\n",
    "ax[:set_xlabel](\"Singulärwerte\",fontsize=20)\n",
    "#ax[:set_ylabel](\"relativer Fehler\",fontsize=20)\n",
    "ax[:legend](fontsize=20)"
   ]
  },
  {
   "cell_type": "code",
   "execution_count": null,
   "metadata": {},
   "outputs": [],
   "source": [
    "# Trunkierungsfehler bei ̃r=1,3 bei den verschiedenen Temperaturen und Zerlegungen\n",
    "f_2_20_1=Fehler_2_exponentiell_20[1]\n",
    "f_2_20_3=Fehler_2_exponentiell_20[3]\n",
    "println(\"Fehler bei T=2,̃20-25,̃r=1: $f_2_20_1\")\n",
    "println(\"Fehler bei T=2,̃20-25,̃r=3: $f_2_20_3\")\n",
    "\n",
    "f_2_50_1=Fehler_2_exponentiell_50[1]\n",
    "f_2_50_3=Fehler_2_exponentiell_50[3]\n",
    "println(\"Fehler bei T=2,̃50-10,̃r=1: $f_2_50_1\")\n",
    "println(\"Fehler bei T=2,̃50-10,̃r=3: $f_2_50_3\")\n",
    "\n",
    "f_2_10_1=Fehler_2_exponentiell_10[1]\n",
    "f_2_10_3=Fehler_2_exponentiell_10[3]\n",
    "println(\"Fehler bei T=2,̃10-50,̃r=1: $f_2_10_1\")\n",
    "println(\"Fehler bei T=2,̃10-50,̃r=3: $f_2_10_3\")\n",
    "\n",
    "f_3_20_1=Fehler_3_exponentiell_20[1]\n",
    "f_3_20_3=Fehler_3_exponentiell_20[3]\n",
    "println(\"Fehler bei T=3,̃20-25,̃r=1: $f_3_20_1\")\n",
    "println(\"Fehler bei T=3,̃20-25,̃r=3: $f_3_20_3\")\n",
    "\n",
    "f_3_50_1=Fehler_3_exponentiell_50[1]\n",
    "f_3_50_3=Fehler_3_exponentiell_50[3]\n",
    "println(\"Fehler bei T=3,̃50-10,̃r=1: $f_3_50_1\")\n",
    "println(\"Fehler bei T=3,̃50-10,̃r=3: $f_3_50_3\")\n",
    "\n",
    "f_3_10_1=Fehler_3_exponentiell_10[1]\n",
    "f_3_10_3=Fehler_3_exponentiell_10[3]\n",
    "println(\"Fehler bei T=3,̃10-50,̃r=1: $f_3_10_1\")\n",
    "println(\"Fehler bei T=3,̃10-50,̃r=3: $f_3_10_3\")\n",
    "\n",
    "f_5_20_1=Fehler_5_exponentiell_20[1]\n",
    "f_5_20_3=Fehler_5_exponentiell_20[3]\n",
    "println(\"Fehler bei T=5,̃20-25,̃r=1: $f_5_20_1\")\n",
    "println(\"Fehler bei T=5,̃20-25,̃r=3: $f_5_20_3\")\n",
    "\n",
    "f_5_50_1=Fehler_5_exponentiell_50[1]\n",
    "f_5_50_3=Fehler_5_exponentiell_50[3]\n",
    "println(\"Fehler bei T=5,̃50-10,̃r=1: $f_5_50_1\")\n",
    "println(\"Fehler bei T=5,̃50-10,̃r=3: $f_5_50_3\")\n",
    "\n",
    "f_5_10_1=Fehler_5_exponentiell_10[1]\n",
    "f_5_10_3=Fehler_5_exponentiell_10[3]\n",
    "println(\"Fehler bei T=5,̃10-50,̃r=1: $f_5_10_1\")\n",
    "println(\"Fehler bei T=5,̃10-50,̃r=3: $f_5_10_3\")"
   ]
  },
  {
   "cell_type": "markdown",
   "metadata": {},
   "source": [
    "## Approximierte Wechselwirkungsmatrix"
   ]
  },
  {
   "cell_type": "code",
   "execution_count": null,
   "metadata": {},
   "outputs": [],
   "source": [
    "# T=2, 20-25, ̃r=1\n",
    "W_2_exponentiell_trunk_20_1=Approximation(U_2_exponentiell_20,Σ_2_exponentiell_20,V_2_exponentiell_20,1)\n",
    "imshow(log.(abs.(W_2_exponentiell_trunk_20_1)))\n",
    "ax=gca()\n",
    "ax[:set_xticks]([1,500])\n",
    "ax[:set_yticks]([1,500])\n",
    "ax[:tick_params](labelsize=20);"
   ]
  },
  {
   "cell_type": "code",
   "execution_count": null,
   "metadata": {},
   "outputs": [],
   "source": [
    "# T=2, 20-25, ̃r=3\n",
    "W_2_exponentiell_trunk_20_3=Approximation(U_2_exponentiell_20,Σ_2_exponentiell_20,V_2_exponentiell_20,3)\n",
    "imshow(log.(abs.(W_2_exponentiell_trunk_20_3)))\n",
    "ax = gca()\n",
    "ax[:set_xticks]([1,500])\n",
    "ax[:set_yticks]([1,500])\n",
    "ax[:tick_params](labelsize=20);"
   ]
  },
  {
   "cell_type": "code",
   "execution_count": null,
   "metadata": {},
   "outputs": [],
   "source": [
    "# T=2, 50-10, ̃r=1\n",
    "W_2_exponentiell_trunk_50_1=Approximation(U_2_exponentiell_50,Σ_2_exponentiell_50,V_2_exponentiell_50,1)\n",
    "imshow(log.(abs.(W_2_exponentiell_trunk_50_1)))\n",
    "ax = gca()\n",
    "ax[:set_xticks]([1,500])\n",
    "ax[:set_yticks]([1,500])\n",
    "ax[:tick_params](labelsize=20);"
   ]
  },
  {
   "cell_type": "code",
   "execution_count": null,
   "metadata": {
    "scrolled": false
   },
   "outputs": [],
   "source": [
    "# T=2, 50-10, ̃r=3\n",
    "W_2_exponentiell_trunk_50_3=Approximation(U_2_exponentiell_50,Σ_2_exponentiell_50,V_2_exponentiell_50,3)\n",
    "imshow(log.(abs.(W_2_exponentiell_trunk_50_3)))\n",
    "ax = gca()\n",
    "ax[:set_xticks]([1,500])\n",
    "ax[:set_yticks]([1,500])\n",
    "ax[:tick_params](labelsize=20);"
   ]
  },
  {
   "cell_type": "code",
   "execution_count": null,
   "metadata": {
    "scrolled": false
   },
   "outputs": [],
   "source": [
    "# T=2, 10-50, ̃r=1\n",
    "W_2_exponentiell_trunk_10_1=Approximation(U_2_exponentiell_10,Σ_2_exponentiell_10,V_2_exponentiell_10,1)\n",
    "imshow(log.(abs.(W_2_exponentiell_trunk_10_1)))\n",
    "ax = gca()\n",
    "ax[:set_xticks]([1,500])\n",
    "ax[:set_yticks]([1,500])\n",
    "ax[:tick_params](labelsize=20);"
   ]
  },
  {
   "cell_type": "code",
   "execution_count": null,
   "metadata": {},
   "outputs": [],
   "source": [
    "# T=2, 10-50, ̃r=3\n",
    "W_2_exponentiell_trunk_10_3=Approximation(U_2_exponentiell_10,Σ_2_exponentiell_10,V_2_exponentiell_10,3)\n",
    "imshow(log.(abs.(W_2_exponentiell_trunk_10_3)))\n",
    "ax = gca()\n",
    "ax[:set_xticks]([1,500])\n",
    "ax[:set_yticks]([1,500])\n",
    "ax[:tick_params](labelsize=20);"
   ]
  },
  {
   "cell_type": "code",
   "execution_count": null,
   "metadata": {},
   "outputs": [],
   "source": [
    "# T=3, 20-25, ̃r=1\n",
    "W_3_exponentiell_trunk_20_1=Approximation(U_3_exponentiell_20,Σ_3_exponentiell_20,V_3_exponentiell_20,1)\n",
    "imshow(log.(abs.(W_3_exponentiell_trunk_20_1)))\n",
    "ax = gca()\n",
    "ax[:set_xticks]([1,500])\n",
    "ax[:set_yticks]([1,500])\n",
    "ax[:tick_params](labelsize=20);"
   ]
  },
  {
   "cell_type": "code",
   "execution_count": null,
   "metadata": {},
   "outputs": [],
   "source": [
    "# T=3, 20-25, ̃r=3\n",
    "W_3_exponentiell_trunk_20_3=Approximation(U_3_exponentiell_20,Σ_3_exponentiell_20,V_3_exponentiell_20,3)\n",
    "imshow(log.(abs.(W_3_exponentiell_trunk_20_3)))\n",
    "ax = gca()\n",
    "ax[:set_xticks]([1,500])\n",
    "ax[:set_yticks]([1,500])\n",
    "ax[:tick_params](labelsize=20);"
   ]
  },
  {
   "cell_type": "code",
   "execution_count": null,
   "metadata": {},
   "outputs": [],
   "source": [
    "# T=3, 50-10, ̃r=1\n",
    "W_3_exponentiell_trunk_50_1=Approximation(U_3_exponentiell_50,Σ_3_exponentiell_50,V_3_exponentiell_50,1)\n",
    "imshow(log.(abs.(W_3_exponentiell_trunk_50_1)))\n",
    "ax = gca()\n",
    "ax[:set_xticks]([1,500])\n",
    "ax[:set_yticks]([1,500])\n",
    "ax[:tick_params](labelsize=20);"
   ]
  },
  {
   "cell_type": "code",
   "execution_count": null,
   "metadata": {},
   "outputs": [],
   "source": [
    "# T=3, 50-10, ̃r=3\n",
    "W_3_exponentiell_trunk_50_3=Approximation(U_3_exponentiell_50,Σ_3_exponentiell_50,V_3_exponentiell_50,3)\n",
    "imshow(log.(abs.(W_3_exponentiell_trunk_50_3)))\n",
    "ax = gca()\n",
    "ax[:set_xticks]([1,500])\n",
    "ax[:set_yticks]([1,500])\n",
    "ax[:tick_params](labelsize=20);"
   ]
  },
  {
   "cell_type": "code",
   "execution_count": null,
   "metadata": {},
   "outputs": [],
   "source": [
    "# T=3, 10-50, ̃r=1\n",
    "W_3_exponentiell_trunk_10_1=Approximation(U_3_exponentiell_10,Σ_3_exponentiell_10,V_3_exponentiell_10,1)\n",
    "imshow(log.(abs.(W_3_exponentiell_trunk_10_1)))\n",
    "ax = gca()\n",
    "ax[:set_xticks]([1,500])\n",
    "ax[:set_yticks]([1,500])\n",
    "ax[:tick_params](labelsize=20);"
   ]
  },
  {
   "cell_type": "code",
   "execution_count": null,
   "metadata": {},
   "outputs": [],
   "source": [
    "# T=3, 10-50, ̃r=3\n",
    "W_3_exponentiell_trunk_10_3=Approximation(U_3_exponentiell_10,Σ_3_exponentiell_10,V_3_exponentiell_10,3)\n",
    "imshow(log.(abs.(W_3_exponentiell_trunk_10_3)))\n",
    "ax = gca()\n",
    "ax[:set_xticks]([1,500])\n",
    "ax[:set_yticks]([1,500])\n",
    "ax[:tick_params](labelsize=20);"
   ]
  },
  {
   "cell_type": "code",
   "execution_count": null,
   "metadata": {},
   "outputs": [],
   "source": [
    "# T=5, 20-25, ̃r=1\n",
    "W_5_exponentiell_trunk_20_1=Approximation(U_5_exponentiell_20,Σ_5_exponentiell_20,V_5_exponentiell_20,1)\n",
    "imshow(log.(abs.(W_5_exponentiell_trunk_20_1)))\n",
    "ax = gca()\n",
    "ax[:set_xticks]([1,500])\n",
    "ax[:set_yticks]([1,500])\n",
    "ax[:tick_params](labelsize=20);"
   ]
  },
  {
   "cell_type": "code",
   "execution_count": null,
   "metadata": {},
   "outputs": [],
   "source": [
    "# T=5, 20-25, ̃r=3\n",
    "W_5_exponentiell_trunk_20_3=Approximation(U_5_exponentiell_20,Σ_5_exponentiell_20,V_5_exponentiell_20,3)\n",
    "imshow(log.(abs.(W_5_exponentiell_trunk_20_3)))\n",
    "ax = gca()\n",
    "ax[:set_xticks]([1,500])\n",
    "ax[:set_yticks]([1,500])\n",
    "ax[:tick_params](labelsize=20);"
   ]
  },
  {
   "cell_type": "code",
   "execution_count": null,
   "metadata": {},
   "outputs": [],
   "source": [
    "# T=5, 50-10, ̃r=1\n",
    "W_5_exponentiell_trunk_50_1=Approximation(U_5_exponentiell_50,Σ_5_exponentiell_50,V_5_exponentiell_50,1)\n",
    "imshow(log.(abs.(W_5_exponentiell_trunk_50_1)))\n",
    "ax = gca()\n",
    "ax[:set_xticks]([1,500])\n",
    "ax[:set_yticks]([1,500])\n",
    "ax[:tick_params](labelsize=20);"
   ]
  },
  {
   "cell_type": "code",
   "execution_count": null,
   "metadata": {},
   "outputs": [],
   "source": [
    "# T=5, 50-10, ̃r=3\n",
    "W_5_exponentiell_trunk_50_3=Approximation(U_5_exponentiell_50,Σ_5_exponentiell_50,V_5_exponentiell_50,3)\n",
    "imshow(log.(abs.(W_5_exponentiell_trunk_50_3)))\n",
    "ax = gca()\n",
    "ax[:set_xticks]([1,500])\n",
    "ax[:set_yticks]([1,500])\n",
    "ax[:tick_params](labelsize=20);"
   ]
  },
  {
   "cell_type": "code",
   "execution_count": null,
   "metadata": {},
   "outputs": [],
   "source": [
    "# T=5, 10-50, ̃r=1\n",
    "W_5_exponentiell_trunk_10_1=Approximation(U_5_exponentiell_10,Σ_5_exponentiell_10,V_5_exponentiell_10,1)\n",
    "imshow(log.(abs.(W_5_exponentiell_trunk_10_1)))\n",
    "ax = gca()\n",
    "ax[:set_xticks]([1,500])\n",
    "ax[:set_yticks]([1,500])\n",
    "ax[:tick_params](labelsize=20);"
   ]
  },
  {
   "cell_type": "code",
   "execution_count": null,
   "metadata": {},
   "outputs": [],
   "source": [
    "# T=5, 10-50, ̃r=3\n",
    "W_5_exponentiell_trunk_10_3=Approximation(U_5_exponentiell_10,Σ_5_exponentiell_10,V_5_exponentiell_10,3)\n",
    "imshow(log.(abs.(W_5_exponentiell_trunk_10_3)))\n",
    "ax = gca()\n",
    "ax[:set_xticks]([1,500])\n",
    "ax[:set_yticks]([1,500])\n",
    "ax[:tick_params](labelsize=20);"
   ]
  },
  {
   "cell_type": "markdown",
   "metadata": {},
   "source": [
    "## Export der approximierten Wechselwirkungsmatrix"
   ]
  },
  {
   "cell_type": "code",
   "execution_count": null,
   "metadata": {},
   "outputs": [],
   "source": [
    "W_2_exponentiell_trunk_20_1=DataFrame(W_2_exponentiell_trunk_20_1)\n",
    "CSV.write(\"...W_2_exponentiell_trunk_20_1.csv\",W_2_exponentiell_trunk_20_1)\n",
    "W_2_exponentiell_trunk_20_3=DataFrame(W_2_exponentiell_trunk_20_3)\n",
    "CSV.write(\"...W_2_exponentiell_trunk_20_3.csv\",W_2_exponentiell_trunk_20_3)\n",
    "W_2_exponentiell_trunk_50_1=DataFrame(W_2_exponentiell_trunk_50_1)\n",
    "CSV.write(\"...W_2_exponentiell_trunk_50_1.csv\",W_2_exponentiell_trunk_50_1)\n",
    "W_2_exponentiell_trunk_50_3=DataFrame(W_2_exponentiell_trunk_50_3)\n",
    "CSV.write(\"...W_2_exponentiell_trunk_50_3.csv\",W_2_exponentiell_trunk_50_3)\n",
    "W_2_exponentiell_trunk_10_1=DataFrame(W_2_exponentiell_trunk_10_1)\n",
    "CSV.write(\"...W_2_exponentiell_trunk_10_1.csv\",W_2_exponentiell_trunk_10_1)\n",
    "W_2_exponentiell_trunk_10_3=DataFrame(W_2_exponentiell_trunk_10_3)\n",
    "CSV.write(\"...W_2_exponentiell_trunk_10_3.csv\",W_2_exponentiell_trunk_10_3)\n",
    "\n",
    "W_3_exponentiell_trunk_20_1=DataFrame(W_3_exponentiell_trunk_20_1)\n",
    "CSV.write(\"...W_3_exponentiell_trunk_20_1.csv\",W_3_exponentiell_trunk_20_1)\n",
    "W_3_exponentiell_trunk_20_3=DataFrame(W_3_exponentiell_trunk_20_3)\n",
    "CSV.write(\"...W_3_exponentiell_trunk_20_3.csv\",W_3_exponentiell_trunk_20_3)\n",
    "W_3_exponentiell_trunk_50_1=DataFrame(W_3_exponentiell_trunk_50_1)\n",
    "CSV.write(\"...W_3_exponentiell_trunk_50_1.csv\",W_3_exponentiell_trunk_50_1)\n",
    "W_3_exponentiell_trunk_50_3=DataFrame(W_3_exponentiell_trunk_50_3)\n",
    "CSV.write(\"...W_3_exponentiell_trunk_50_3.csv\",W_3_exponentiell_trunk_50_3)\n",
    "W_3_exponentiell_trunk_10_1=DataFrame(W_3_exponentiell_trunk_10_1)\n",
    "CSV.write(\"...W_3_exponentiell_trunk_10_1.csv\",W_3_exponentiell_trunk_10_1)\n",
    "W_3_exponentiell_trunk_10_3=DataFrame(W_3_exponentiell_trunk_10_3)\n",
    "CSV.write(\"...W_3_exponentiell_trunk_10_3.csv\",W_3_exponentiell_trunk_10_3)\n",
    "\n",
    "W_5_exponentiell_trunk_20_1=DataFrame(W_5_exponentiell_trunk_20_1)\n",
    "CSV.write(\"...W_5_exponentiell_trunk_20_1.csv\",W_5_exponentiell_trunk_20_1)\n",
    "W_5_exponentiell_trunk_20_3=DataFrame(W_5_exponentiell_trunk_20_3)\n",
    "CSV.write(\"...W_5_exponentiell_trunk_20_3.csv\",W_5_exponentiell_trunk_20_3)\n",
    "W_5_exponentiell_trunk_50_1=DataFrame(W_5_exponentiell_trunk_50_1)\n",
    "CSV.write(\"...W_5_exponentiell_trunk_50_1.csv\",W_5_exponentiell_trunk_50_1)\n",
    "W_5_exponentiell_trunk_50_3=DataFrame(W_5_exponentiell_trunk_50_3)\n",
    "CSV.write(\"...W_5_exponentiell_trunk_50_3.csv\",W_5_exponentiell_trunk_50_3)\n",
    "W_5_exponentiell_trunk_10_1=DataFrame(W_5_exponentiell_trunk_10_1)\n",
    "CSV.write(\"...W_5_exponentiell_trunk_10_1.csv\",W_5_exponentiell_trunk_10_1)\n",
    "W_5_exponentiell_trunk_10_3=DataFrame(W_5_exponentiell_trunk_10_3)\n",
    "CSV.write(\"...W_5_exponentiell_trunk_10_3.csv\",W_5_exponentiell_trunk_10_3)"
   ]
  }
 ],
 "metadata": {
  "kernelspec": {
   "display_name": "Julia 1.6.0",
   "language": "julia",
   "name": "julia-1.6"
  },
  "language_info": {
   "file_extension": ".jl",
   "mimetype": "application/julia",
   "name": "julia",
   "version": "1.6.0"
  }
 },
 "nbformat": 4,
 "nbformat_minor": 4
}
