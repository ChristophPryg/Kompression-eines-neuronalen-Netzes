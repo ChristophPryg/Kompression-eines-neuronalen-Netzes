{
 "cells": [
  {
   "cell_type": "markdown",
   "metadata": {},
   "source": [
    "Die Ansätze für diese Algorithmen wurden teilweise dem Beitrag von Markus Schmitt auf GitHub entnommen.\n",
    "https://github.com/markusschmitt/ml_rapid_tutorial/tree/master/unsupervised_learning"
   ]
  },
  {
   "cell_type": "code",
   "execution_count": null,
   "metadata": {
    "scrolled": true
   },
   "outputs": [],
   "source": [
    "using CSV, Statistics, PyPlot, DataFrames, Random\n",
    "# Seed setzen\n",
    "Random.seed!(1)"
   ]
  },
  {
   "cell_type": "markdown",
   "metadata": {},
   "source": [
    "## Import der Daten"
   ]
  },
  {
   "cell_type": "code",
   "execution_count": null,
   "metadata": {},
   "outputs": [],
   "source": [
    "# DataFrame importieren\n",
    "v_data_2=DataFrame(CSV.File(\"C:\\\\Users\\\\cpryg\\\\Documents\\\\Bachelorarbeit\\\\data_2.csv\"))\n",
    "# DataFrame in Matrix konvertieren\n",
    "v_data_2=convert(Matrix,v_data_2);\n",
    "# Shuffle der Daten\n",
    "s=shuffle(collect(1:size(v_data_2)[2]))\n",
    "v_data_shuffled_2=zeros(size(v_data_2))\n",
    "for j in 1:size(v_data_2)[2]\n",
    "    v_data_shuffled_2[:,j]=v_data_2[:,s[j]]\n",
    "end\n",
    "v_training_2=v_data_shuffled_2"
   ]
  },
  {
   "cell_type": "code",
   "execution_count": null,
   "metadata": {},
   "outputs": [],
   "source": [
    "# DataFrame importieren\n",
    "v_data_3=DataFrame(CSV.File(\"C:\\\\Users\\\\cpryg\\\\Documents\\\\Bachelorarbeit\\\\data_3.csv\"))\n",
    "# DataFrame in Matrix konvertieren\n",
    "v_data_3=convert(Matrix,v_data_3);\n",
    "# Shuffle der Daten\n",
    "s=shuffle(collect(1:size(v_data_3)[2]))\n",
    "v_data_shuffled_3=zeros(size(v_data_3))\n",
    "for j in 1:size(v_data_3)[2]\n",
    "    v_data_shuffled_3[:,j]=v_data_3[:,s[j]]\n",
    "end\n",
    "v_training_3=v_data_shuffled_3"
   ]
  },
  {
   "cell_type": "code",
   "execution_count": null,
   "metadata": {},
   "outputs": [],
   "source": [
    "# DataFrame importieren\n",
    "v_data_5=DataFrame(CSV.File(\"C:\\\\Users\\\\cpryg\\\\Documents\\\\Bachelorarbeit\\\\data_5.csv\"))\n",
    "# DataFrame in Matrix konvertieren\n",
    "v_data_5=convert(Matrix,v_data_5);\n",
    "# Shuffle der Daten\n",
    "s=shuffle(collect(1:size(v_data_5)[2]))\n",
    "v_data_shuffled_5=zeros(size(v_data_5))\n",
    "for j in 1:size(v_data_5)[2]\n",
    "    v_data_shuffled_5[:,j]=v_data_5[:,s[j]]\n",
    "end\n",
    "v_training_5=v_data_shuffled_5"
   ]
  },
  {
   "cell_type": "markdown",
   "metadata": {},
   "source": [
    "## Definition der relevanten Funktionen"
   ]
  },
  {
   "cell_type": "code",
   "execution_count": null,
   "metadata": {},
   "outputs": [],
   "source": [
    "# Sigmoidfunktion definieren\n",
    "function sigmoid(x)\n",
    "    s=1 ./(1 .+exp.(-x))\n",
    "    return s\n",
    "end"
   ]
  },
  {
   "cell_type": "markdown",
   "metadata": {},
   "source": [
    "Es wurde auf die Bias-Parameter verzichtet, sodass nur noch die Wechselwirkungsmatrix W erlernt werden muss."
   ]
  },
  {
   "cell_type": "code",
   "execution_count": null,
   "metadata": {},
   "outputs": [],
   "source": [
    "#p(v_i=1|h) ∀ i direkt berechnen \n",
    "function p_v__h(h,W)\n",
    "    p=sigmoid(W*h)\n",
    "    return p\n",
    "end\n",
    "#p(h_j=1|v) ∀ j direkt berechnen \n",
    "function p_h__v(v,W)\n",
    "    p=sigmoid(transpose(W)*v)\n",
    "    return p\n",
    "end"
   ]
  },
  {
   "cell_type": "code",
   "execution_count": null,
   "metadata": {},
   "outputs": [],
   "source": [
    "# Ein Schritt vom Gibbs-Sampling für eine gegebene Konfiguration\n",
    "function gibbs_step(v,W)\n",
    "    p_h=p_h__v(v,W)\n",
    "    h_new=ones(size(W)[2])\n",
    "    for j in 1:size(W)[2]\n",
    "        if rand()>p_h[j]\n",
    "            h_new[j]=-1\n",
    "        end\n",
    "    end\n",
    "    p_v=p_v__h(h_new,W)\n",
    "    v_new=ones(size(W)[1])\n",
    "    for i in 1:size(W)[1]\n",
    "        if rand()>p_v[i]\n",
    "            v_new[i]=-1\n",
    "        end\n",
    "    end\n",
    "    return v_new\n",
    "end"
   ]
  },
  {
   "cell_type": "code",
   "execution_count": null,
   "metadata": {},
   "outputs": [],
   "source": [
    "# n Schritte von Gibbs-Sampling für N Konfigurationen \n",
    "function Gibbs_step(v,W,n)\n",
    "    Konfiguration=copy(v)\n",
    "    for i in 1:size(v)[2]\n",
    "        for t in 1:n\n",
    "            Konfiguration[:,i]=gibbs_step(Konfiguration[:,i],W)\n",
    "        end\n",
    "    end\n",
    "    return Konfiguration\n",
    "end"
   ]
  },
  {
   "cell_type": "markdown",
   "metadata": {},
   "source": [
    "$$\n",
    "\\langle h_j \\rangle_{S}=\\frac{1}{|S|}\\cdot \\sum_{\\vec{v}\\in S}[p(h_j=1|\\vec{v})-p(h_j=-1|\\vec{v})]=\\frac{1}{|S|}\\cdot \\sum_{\\vec{v}\\in S} 2\\cdot p(h_j=1|\\vec{v})-1\n",
    "$$\n",
    "$$\n",
    "\\langle v_i \\rangle_{S}=\\frac{1}{|S|}\\cdot \\sum_{\\vec{v}\\in S}v_i\n",
    "$$\n",
    "$$\n",
    "\\langle h_j\\cdot v_i \\rangle_{S}=\\frac{1}{|S|}\\cdot \\sum_{\\vec{v}\\in S} v_i \\cdot[2\\cdot p(h_j=1|\\vec{v})-1]\n",
    "$$\n",
    "$S$ ist eine beliebige Konfigurationsmenge."
   ]
  },
  {
   "cell_type": "code",
   "execution_count": null,
   "metadata": {},
   "outputs": [],
   "source": [
    "# Gradientenbestimmung durch Constrative Divergence (CD) \n",
    "function CD(v,W,n,η)\n",
    "    # neue Konfigurationsmenge wird generiert\n",
    "    v_new=Gibbs_step(v,W,n)\n",
    "    # Bedingte Wahrscheinlichkeiten für jede Konfiguration vorab bestimmen\n",
    "    p_h=[p_h__v(v[:,n],W) for n in 1:size(v)[2]]\n",
    "    p_h_new=[p_h__v(v_new[:,n],W) for n in 1:size(v)[2]]\n",
    "    for i in 1:size(W)[1]\n",
    "        for j in 1:size(W)[2]\n",
    "            for n in 1:size(v)[2]\n",
    "                # Parameterupdate\n",
    "                W[i,j]+=η/size(v)[2]*(v[i,n]*(2*p_h[n][j]-1)-v_new[i,n]*(2*p_h_new[n][j]-1))\n",
    "            end\n",
    "        end\n",
    "    end\n",
    "    return W\n",
    "end"
   ]
  },
  {
   "cell_type": "code",
   "execution_count": null,
   "metadata": {},
   "outputs": [],
   "source": [
    "# Wechselwirkung mit allen anderen Spins werden in einer Matrix gespeichert\n",
    "function Wechselwirkung(L;J=1)\n",
    "    V=zeros(L,L)\n",
    "    for i in 1:L\n",
    "        for j in 1:L\n",
    "            if i!=j\n",
    "                V[i,j]=J/abs(i-j)^2\n",
    "            end\n",
    "        end\n",
    "    end\n",
    "    return V\n",
    "end\n",
    "\n",
    "# Es wird die mittlere reale Energie einer Menge an Konfigurationen betrachtet \n",
    "# V=Wechselwirkungsmatrix\n",
    "function E(v,V;J=1)\n",
    "    E=0\n",
    "    for n in 1:size(v)[2]\n",
    "        for i in 1:size(v)[1]\n",
    "            for j in 1:size(v)[1]\n",
    "                E+=-J/2*v[i,n]*v[j,n]*V[i,j]\n",
    "            end\n",
    "        end\n",
    "    end\n",
    "    E=E/size(v)[2]\n",
    "    return E\n",
    "end\n"
   ]
  },
  {
   "cell_type": "code",
   "execution_count": null,
   "metadata": {},
   "outputs": [],
   "source": [
    "#=Zur Kontrolle des Trainingsprozesses wird die reale mittlere Energie einiger generierter Konfiguration betrachtet.\n",
    "Es müssen immer dieselben Konfigurationen aus v_data verwendet werden, um die Entwicklung der Energie zu betrachten.\n",
    "Es wird das Gibbs-Sampling durchgeführt, um die neuen Konfigurationen zu erhalten.\n",
    "v ist eine Menge an Konfigurationen, minibatches ist die Anzahl der Minibatches, n_h ist die Größe der verborgenen Schicht=#\n",
    "function training(v,n_h,n,η,epoch,minibatches)\n",
    "    # Seed setzen\n",
    "    Random.seed!(1)\n",
    "    W=randn(size(v)[1],n_h)\n",
    "    # Wechselwirkungsmatrix \n",
    "    V=Wechselwirkung(size(v)[1])\n",
    "    # mittlere Energien\n",
    "    E_training=zeros(epoch+1)\n",
    "    v_new=Gibbs_step(v[:,1:100],W,n)\n",
    "    E_training[1]=E(v_new,V)\n",
    "    # mittlere Energien bei der Initialisierung \n",
    "    E_0=E(v,V)\n",
    "    # Array für die Minibatches erstellen\n",
    "    r=floor(Int,size(v)[2]/minibatches)\n",
    "    v_minibatch=zeros(size(v)[1],r)\n",
    "    for t in 1:epoch\n",
    "        # Indizes shufflen\n",
    "        idx=shuffle(collect(1:size(v)[2]))\n",
    "        i=0\n",
    "        for n in 1:minibatches\n",
    "            # Mini-batches bilden\n",
    "            v_minibatch=v[:,idx[i+1:i+r]]\n",
    "            #Parameterupdate in den Mini-batches\n",
    "            W=CD(v,W,n,η)\n",
    "            i+=r\n",
    "        end\n",
    "        # neue Daten nach dem Parameterupdate erstellen \n",
    "        v_new=Gibbs_step(v[:,1:100],W,n)\n",
    "        E_training[t+1]=E(v_new,V)\n",
    "    end\n",
    "    E_training.-=E_0\n",
    "    E_training./=E_0\n",
    "    return abs.(E_training),W\n",
    "end"
   ]
  },
  {
   "cell_type": "markdown",
   "metadata": {},
   "source": [
    "## Training des Modells bei den Temperaturen T=2,3,5"
   ]
  },
  {
   "cell_type": "code",
   "execution_count": null,
   "metadata": {},
   "outputs": [],
   "source": [
    "# Training bei T=2\n",
    "ΔE_2,W_2_final=training(v_training_2[:,1:5000],500,1,0.5,15,7)"
   ]
  },
  {
   "cell_type": "code",
   "execution_count": null,
   "metadata": {},
   "outputs": [],
   "source": [
    "# Plot des Trainingsverlauf bei T=2\n",
    "plot(ΔE_2,label=\"normalverteilt\")\n",
    "legend()\n",
    "ax = gca()\n",
    "ax[:set_xticks]([0,2,4,6,8,10,12,14,16])\n",
    "ax[:tick_params](labelsize=15)\n",
    "ax[:set_xlabel](\"Epochen\",fontsize=15)\n",
    "ax[:set_ylabel](\"ΔE\",fontsize=15)\n",
    "ax[:legend](fontsize=15)"
   ]
  },
  {
   "cell_type": "code",
   "execution_count": null,
   "metadata": {},
   "outputs": [],
   "source": [
    "# Training bei T=3\n",
    "ΔE_3,W_3_final=training(v_training_3[:,1:5000],500,1,0.5,15,7)"
   ]
  },
  {
   "cell_type": "code",
   "execution_count": null,
   "metadata": {},
   "outputs": [],
   "source": [
    "# Plot des Trainingsverlauf bei T=3\n",
    "plot(ΔE_3,label=\"normalverteilt\")\n",
    "xlabel(\"Epochen\")\n",
    "ylabel(\"ΔE\")\n",
    "legend()\n",
    "ax = gca()\n",
    "ax[:set_xticks]([0,2,4,6,8,10,12,14,16])\n",
    "ax[:tick_params](labelsize=15)\n",
    "ax[:set_xlabel](\"Epochen\",fontsize=15)\n",
    "ax[:set_ylabel](\"ΔE\",fontsize=15)\n",
    "ax[:legend](fontsize=15)"
   ]
  },
  {
   "cell_type": "code",
   "execution_count": null,
   "metadata": {},
   "outputs": [],
   "source": [
    "# Training bei T=5\n",
    "ΔE_5,W_5_final=training(v_training_5[:,1:5000],500,1,0.5,15,7)"
   ]
  },
  {
   "cell_type": "code",
   "execution_count": null,
   "metadata": {},
   "outputs": [],
   "source": [
    "# Plot des Trainingsverlauf bei T=5\n",
    "plot(ΔE_5,label=\"normalverteilt\")\n",
    "xlabel(\"Epochen\")\n",
    "ylabel(\"ΔE\")\n",
    "legend()\n",
    "ax = gca()\n",
    "ax[:set_xticks]([0,2,4,6,8,10,12,14,16])\n",
    "ax[:tick_params](labelsize=15)\n",
    "ax[:set_xlabel](\"Epochen\",fontsize=15)\n",
    "ax[:set_ylabel](\"ΔE\",fontsize=15)\n",
    "ax[:legend](fontsize=15)"
   ]
  },
  {
   "cell_type": "markdown",
   "metadata": {},
   "source": [
    "## Export der Wechselwirkungsmatrizen"
   ]
  },
  {
   "cell_type": "code",
   "execution_count": null,
   "metadata": {},
   "outputs": [],
   "source": [
    "W_2=DataFrame(W_2_final)\n",
    "CSV.write(\"...W_2.csv\",W_2)\n",
    "W_3=DataFrame(W_3_final)\n",
    "CSV.write(\"...W_3.csv\",W_3)\n",
    "W_5=DataFrame(W_5_final)\n",
    "CSV.write(\"...W_5.csv\",W_5)"
   ]
  },
  {
   "cell_type": "markdown",
   "metadata": {},
   "source": [
    "## Analyse der Korrelation "
   ]
  },
  {
   "cell_type": "markdown",
   "metadata": {},
   "source": [
    "Spin-Spin Korrelationsfunktion wird berechnet, indem für jede Konfiguration ausgehend von der mittleren Position y=$\\lfloor L/2 \\rfloor$ der Spinkette L das Produkt zweier Spins mit dem Abstand |y-x| gebildet wird. Dabei wird der Abstand zu Spins, die rechts und links davon liegen, separat betrachtet. Dieser Wert wird anschließend über alle Konfigurationen gemittelt:\n",
    "$$\n",
    "\\chi(x)^{(n)}=v_y^{(n)} v_{x}^{(n)} \\Rightarrow \\chi(x)=\\frac{1}{N}\\sum_{n=1}^N \\chi(x)^{(n)}\n",
    "$$\n",
    "Da ab einer gewissen Entfernung von der mittleren Position das Untergrundrauschen dominant wird, werden für die mittlere relative Abweichung der Korrelationen nur Werte in einem kleineren Intervall um die mittlere Position herangezogen."
   ]
  },
  {
   "cell_type": "code",
   "execution_count": null,
   "metadata": {},
   "outputs": [],
   "source": [
    "# mittlere relative Abweichung der beiden Korrelationsfunktionen\n",
    "function Δχ(χ_1,χ_2,l,r)\n",
    "    ΔΧ=abs.((χ_1[250+l:250+r].-χ_2[250+l:250+r])./χ_1[250+l:250+r])\n",
    "    Δ=mean(ΔΧ)\n",
    "    return Δ\n",
    "end"
   ]
  },
  {
   "cell_type": "markdown",
   "metadata": {},
   "source": [
    "### T=2"
   ]
  },
  {
   "cell_type": "code",
   "execution_count": null,
   "metadata": {},
   "outputs": [],
   "source": [
    "# Plot der Korrelationen\n",
    "# Seed setzen\n",
    "Random.seed!(1)\n",
    "v_2=v_training_2[:,1:5000]\n",
    "v_new_2=Gibbs_step(v_2,W_2_final,1)\n",
    "# Korrelation der ursprünglichen Daten\n",
    "χ_old_2=zeros(size(v_2)[1])\n",
    "# Korrelation der nach dem Training generierten Daten\n",
    "χ_new_2=zeros(size(v_2)[1])\n",
    "y=floor(Int,size(v_2)[1]/2)\n",
    "for x in 1:size(v_2)[1]\n",
    "    for n in 1:size(v_2)[2]\n",
    "        χ_old_2[x]+=1/size(v_2)[2]*v_2[y,n]*v_2[x,n]\n",
    "        χ_new_2[x]+=1/size(v_2)[2]*v_new_2[y,n]*v_new_2[x,n]\n",
    "    end\n",
    "end\n",
    "x=collect(1:500)\n",
    "plot(x.-250,χ_new_2,label=\"χ_gelernt\")\n",
    "plot(x.-250,χ_old_2,label=\"χ_data\")\n",
    "legend()\n",
    "ax = gca()\n",
    "ax[:set_xticks]([-200,-100,0,100,200])\n",
    "ax[:tick_params](labelsize=15)\n",
    "ax[:set_xlabel](\"Δx\",fontsize=15)\n",
    "ax[:set_ylabel](\"χ(Δx)\",fontsize=15)\n",
    "ax[:legend](fontsize=15)\n",
    "\n",
    "# mittlerer Fehler Δχ=|χ_new-χ_old|/|χ_old|\n",
    "Δχ_2=Δχ(χ_old_2,χ_new_2,-165,165)\n",
    "println(\"Abweichung: $Δχ_2\")"
   ]
  },
  {
   "cell_type": "code",
   "execution_count": null,
   "metadata": {},
   "outputs": [],
   "source": [
    "# Plot der Korrelationsabweichung gegen die Intervallgrenzen, um diese festzulegen\n",
    "Δχ_2_funktion=[Δχ(χ_old_2,χ_new_2,-i,i) for i in 100:170]\n",
    "plot(collect(100:170),Δχ_2_funktion)\n",
    "ax = gca()\n",
    "ax[:set_xticks]([100,125,150,170])\n",
    "ax[:tick_params](labelsize=20)\n",
    "ax[:set_xlabel](\"|x|\",fontsize=20)\n",
    "ax[:set_ylabel](\"Δχ(|x|)\",fontsize=20)"
   ]
  },
  {
   "cell_type": "code",
   "execution_count": null,
   "metadata": {},
   "outputs": [],
   "source": [
    "# Logarithmische Auftragung, um exponentielle Abhängigkeit zu erkennen.\n",
    "x=collect(1:500)\n",
    "semilogy(x.-250,χ_new_2,label=\"χ_gelernt\")\n",
    "semilogy(x.-250,χ_old_2,label=\"χ_data\")\n",
    "legend()\n",
    "ax = gca()\n",
    "ax[:set_xticks]([-200,-100,0,100,200])\n",
    "ax[:tick_params](labelsize=15)\n",
    "ax[:set_xlabel](\"Δx\",fontsize=15)\n",
    "ax[:set_ylabel](\"χ(Δx)\",fontsize=15)\n",
    "ax[:legend](fontsize=15)\n",
    "xlim(-200,200)\n",
    "ylim(10^-3,1.2)"
   ]
  },
  {
   "cell_type": "markdown",
   "metadata": {},
   "source": [
    "### T=3"
   ]
  },
  {
   "cell_type": "code",
   "execution_count": null,
   "metadata": {},
   "outputs": [],
   "source": [
    "# Plot der Korrelationen\n",
    "# Seed setzen\n",
    "Random.seed!(1)\n",
    "v_3=v_training_3[:,1:5000]\n",
    "v_new_3=Gibbs_step(v_3,W_3_final,1)\n",
    "# Korrelation der ursprünglichen Daten\n",
    "χ_old_3=zeros(size(v_3)[1])\n",
    "# Korrelation der nach dem Training generierten Daten\n",
    "χ_new_3=zeros(size(v_3)[1])\n",
    "y=floor(Int,size(v_3)[1]/2)\n",
    "for x in 1:size(v_3)[1]\n",
    "    for n in 1:size(v_3)[2]\n",
    "        χ_old_3[x]+=1/size(v_3)[2]*v_3[y,n]*v_3[x,n]\n",
    "        χ_new_3[x]+=1/size(v_3)[2]*v_new_3[y,n]*v_new_3[x,n]\n",
    "    end\n",
    "end\n",
    "x=collect(1:500)\n",
    "plot(x.-250,χ_new_3,label=\"χ_gelernt\")\n",
    "plot(x.-250,χ_old_3,label=\"χ_data\")\n",
    "legend()\n",
    "ax = gca()\n",
    "ax[:set_xticks]([-200,-100,0,100,200])\n",
    "ax[:tick_params](labelsize=15)\n",
    "ax[:set_xlabel](\"Δx\",fontsize=15)\n",
    "ax[:set_ylabel](\"χ(Δx)\",fontsize=15)\n",
    "ax[:legend](fontsize=15)\n",
    "# mittlerer Fehler Δχ=|χ_new-χ_old|/|χ_old|\n",
    "Δχ_3=Δχ(χ_old_3,χ_new_3,-16,16)\n",
    "println(\"Abweichung: $Δχ_3\")"
   ]
  },
  {
   "cell_type": "code",
   "execution_count": null,
   "metadata": {},
   "outputs": [],
   "source": [
    "# Plot der Korrelationsabweichung gegen die Intervallgrenzen, um diese festzulegen\n",
    "Δχ_3_funktion=[Δχ(χ_old_3,χ_new_3,-i,i) for i in 5:30]\n",
    "plot(collect(5:30),Δχ_3_funktion)\n",
    "ax = gca()\n",
    "ax[:set_xticks]([5,10,15,20,25,30])\n",
    "ax[:tick_params](labelsize=20)\n",
    "ax[:set_xlabel](\"|x|\",fontsize=20)\n",
    "ax[:set_ylabel](\"Δχ(|x|)\",fontsize=20)"
   ]
  },
  {
   "cell_type": "code",
   "execution_count": null,
   "metadata": {},
   "outputs": [],
   "source": [
    "# Logarithmische Auftragung, um exponentielle Abhängigkeit zu erkennen.\n",
    "x=collect(1:500)\n",
    "semilogy(x.-250,χ_new_3,label=\"χ_gelernt\")\n",
    "semilogy(x.-250,χ_old_3,label=\"χ_data\")\n",
    "legend()\n",
    "ax = gca()\n",
    "ax[:set_xticks]([-40,-40,0,20,40])\n",
    "ax[:tick_params](labelsize=15)\n",
    "ax[:set_xlabel](\"Δx\",fontsize=15)\n",
    "ax[:set_ylabel](\"χ(Δx)\",fontsize=15)\n",
    "ax[:legend](fontsize=15)\n",
    "xlim(-50,50)\n",
    "ylim(10^-3,1.2)"
   ]
  },
  {
   "cell_type": "markdown",
   "metadata": {},
   "source": [
    "### T=5"
   ]
  },
  {
   "cell_type": "code",
   "execution_count": null,
   "metadata": {},
   "outputs": [],
   "source": [
    "# Plot der Korrelationen\n",
    "# Seed setzen\n",
    "Random.seed!(1)\n",
    "v_5=v_training_5[:,1:5000]\n",
    "v_new_5=Gibbs_step(v_5,W_5_final,1)\n",
    "# Korrelation der ursprünglichen Daten\n",
    "χ_old_5=zeros(size(v_5)[1])\n",
    "# Korrelation der nach dem Training generierten Daten\n",
    "χ_new_5=zeros(size(v_5)[1])\n",
    "y=floor(Int,size(v_5)[1]/2)\n",
    "for x in 1:size(v_5)[1]\n",
    "    for n in 1:size(v_5)[2]\n",
    "        χ_old_5[x]+=1/size(v_5)[2]*v_5[y,n]*v_5[x,n]\n",
    "        χ_new_5[x]+=1/size(v_5)[2]*v_new_5[y,n]*v_new_5[x,n]\n",
    "    end\n",
    "end\n",
    "x=collect(1:500)\n",
    "plot(x.-250,χ_new_5,label=\"χ_gelernt\")\n",
    "plot(x.-250,χ_old_5,label=\"χ_data\")\n",
    "legend()\n",
    "ax = gca()\n",
    "ax[:set_xticks]([-200,-100,0,100,200])\n",
    "ax[:tick_params](labelsize=15)\n",
    "ax[:set_xlabel](\"Δx\",fontsize=15)\n",
    "ax[:set_ylabel](\"χ(Δx)\",fontsize=15)\n",
    "ax[:legend](fontsize=15)\n",
    "\n",
    "# mittlerer Fehler Δχ=|χ_new-χ_old|/|χ_old|\n",
    "Δχ_5=Δχ(χ_old_5,χ_new_5,-5,5)\n",
    "println(\"Abweichung: $Δχ_5\")"
   ]
  },
  {
   "cell_type": "code",
   "execution_count": null,
   "metadata": {},
   "outputs": [],
   "source": [
    "# Plot der Korrelationsabweichung gegen die Intervallgrenzen, um diese festzulegen\n",
    "Δχ_5_funktion=[Δχ(χ_old_5,χ_new_5,-i,i) for i in 1:10]\n",
    "plot(collect(1:10),Δχ_5_funktion)\n",
    "ax = gca()\n",
    "ax[:set_xticks]([1,3,5,7,9])\n",
    "ax[:tick_params](labelsize=20)\n",
    "ax[:set_xlabel](\"|x|\",fontsize=20)\n",
    "ax[:set_ylabel](\"Δχ(|x|)\",fontsize=20)"
   ]
  },
  {
   "cell_type": "code",
   "execution_count": null,
   "metadata": {
    "scrolled": false
   },
   "outputs": [],
   "source": [
    "# Logarithmische Auftragung, um exponentielle Abhängigkeit zu erkennen.\n",
    "x=collect(1:500)\n",
    "semilogy(x.-250,χ_new_5,label=\"χ_gelernt\")\n",
    "semilogy(x.-250,χ_old_5,label=\"χ_data\")\n",
    "legend()\n",
    "ax = gca()\n",
    "ax[:set_xticks]([-15,-10,-5,0,5,10,15])\n",
    "ax[:tick_params](labelsize=15)\n",
    "ax[:set_xlabel](\"Δx\",fontsize=15)\n",
    "ax[:set_ylabel](\"χ(Δx)\",fontsize=15)\n",
    "ax[:legend](fontsize=15)\n",
    "xlim(-15,15)\n",
    "ylim(10^-3,1.2)"
   ]
  },
  {
   "cell_type": "markdown",
   "metadata": {},
   "source": [
    "## Korrelationsmatrix"
   ]
  },
  {
   "cell_type": "code",
   "execution_count": null,
   "metadata": {},
   "outputs": [],
   "source": [
    "# Korrelationsmatrix erstellen\n",
    "function Korrelationsmatrix(v)\n",
    "    χ=zeros(size(v)[1],size(v)[1])\n",
    "    for i in 1:size(v)[1]\n",
    "        for j in 1:size(v)[1]\n",
    "            χ[i,j]=mean([v[i,n]*v[j,n] for n in 1:size(v)[2]])\n",
    "        end\n",
    "    end\n",
    "    # logarithmische Darstellung\n",
    "    imshow(log.(abs.(χ)))\n",
    "    return nothing\n",
    "end"
   ]
  },
  {
   "cell_type": "code",
   "execution_count": null,
   "metadata": {},
   "outputs": [],
   "source": [
    "# T=2\n",
    "Korrelationsmatrix(v_training_2[:,1:5000])\n",
    "ax = gca()\n",
    "ax[:set_xticks]([1,500])\n",
    "ax[:set_yticks]([1,500])\n",
    "ax[:tick_params](labelsize=20);"
   ]
  },
  {
   "cell_type": "code",
   "execution_count": null,
   "metadata": {},
   "outputs": [],
   "source": [
    "# T=3\n",
    "Korrelationsmatrix(v_training_3[:,1:5000])\n",
    "ax = gca()\n",
    "ax[:set_xticks]([1,500])\n",
    "ax[:set_yticks]([1,500])\n",
    "ax[:tick_params](labelsize=20);"
   ]
  },
  {
   "cell_type": "code",
   "execution_count": null,
   "metadata": {},
   "outputs": [],
   "source": [
    "# T=5\n",
    "Korrelationsmatrix(v_training_5[:,1:5000])\n",
    "ax = gca()\n",
    "ax[:set_xticks]([1,500])\n",
    "ax[:set_yticks]([1,500])\n",
    "ax[:tick_params](labelsize=20);"
   ]
  }
 ],
 "metadata": {
  "kernelspec": {
   "display_name": "Julia 1.6.0",
   "language": "julia",
   "name": "julia-1.6"
  },
  "language_info": {
   "file_extension": ".jl",
   "mimetype": "application/julia",
   "name": "julia",
   "version": "1.6.0"
  }
 },
 "nbformat": 4,
 "nbformat_minor": 4
}
